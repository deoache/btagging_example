{
 "cells": [
  {
   "cell_type": "markdown",
   "id": "38d49bf6-e6c2-41d0-9491-2b7e7f001eea",
   "metadata": {},
   "source": [
    "# Event reweighting using scale factors and MC b-tagging efficiencies\n",
    "\n",
    "The probability of a given configuration of jets in MC simulation and data is defined as\n",
    "\n",
    "$$\n",
    "P(MC) = \\prod_{i=\\text{tagged}} \\varepsilon_i \\prod_{j=\\text{not tagged}} 1 - \\varepsilon_j\n",
    "$$\n",
    "\n",
    "$$\n",
    "P(DATA) = \\prod_{i=\\text{tagged}} SF_{i} \\varepsilon_i \\prod_{j=\\text{not tagged}} (1 - SF_{j} \\varepsilon_j)\n",
    "$$\n",
    "\n",
    "\n",
    "where $ \\varepsilon_i $ is the MC b-tagging efficiency, and $ \\text{SF}_i $ and $ \\varepsilon_i $ are functions of the jet flavor, jet $ p_\\text{T} $, and jet $ \\eta $. The event weight is now calculated as\n",
    "\n",
    "$$\n",
    "w = \\frac{P(DATA)}{P(MC)} = \\prod_{i=\\text{tagged}} \\frac{sf_{i} \\cdot \\varepsilon_i}{\\varepsilon_i} \\prod_{j=\\text{not tagged}} \\frac{1 - sf_{j} \\cdot \\varepsilon_j}{1-\\varepsilon_j} \\hspace{1cm} (1)\n",
    "$$\n",
    "\n",
    "We'll follow Nick's example https://gist.github.com/nsmith-/8d3d41aaffda92148ebc7bfcc5c827f5"
   ]
  },
  {
   "cell_type": "markdown",
   "id": "4dc26fae-b65d-4229-99bd-ca72e490712a",
   "metadata": {},
   "source": [
    "### MC b-tagging efficiency\n",
    "\n",
    "To compute the MC b-tagging efficiency we start by defining a `hist` histogram with 5 axes: \n",
    "\n",
    "* MC dataset name\n",
    "* Jet $p_T$\n",
    "* Jet $\\eta$\n",
    "* Jet flavor\n",
    "* passbtag \n",
    "\n",
    "\"passbtag\" is a mask that is used to reference the jets that pass the b-jet tagging at a given working point. \n",
    "\n",
    "This histogram will be populated by using all MC samples from the analysis. This is implemented through the following Coffea processor:"
   ]
  },
  {
   "cell_type": "code",
   "execution_count": 20,
   "id": "2f13ac7a-d75f-4ba4-92b3-a81317b2951e",
   "metadata": {
    "tags": []
   },
   "outputs": [],
   "source": [
    "import json\n",
    "import hist \n",
    "import correctionlib\n",
    "import importlib.resources\n",
    "import numpy as np\n",
    "import awkward as ak\n",
    "import matplotlib.pyplot as plt\n",
    "from coffea import util, processor\n",
    "from typing import Type\n",
    "from coffea.lookup_tools.dense_lookup import dense_lookup\n",
    "from coffea.analysis_tools import Weights"
   ]
  },
  {
   "cell_type": "code",
   "execution_count": 1,
   "id": "1be0d62a-1b78-4a6a-b306-312454b6cae5",
   "metadata": {
    "tags": []
   },
   "outputs": [],
   "source": [
    "class BTagEfficiencyProcessor(processor.ProcessorABC):\n",
    "    def __init__(self, year=\"2017\", yearmod=\"\", tagger=\"deepJet\", wp=\"M\"):\n",
    "        self._year = year + yearmod\n",
    "        self._tagger = tagger\n",
    "        self._wp = wp\n",
    "        \n",
    "        # btag working points (only for deepJet)\n",
    "        with importlib.resources.path(\"wprime_plus_b.data\", \"btagWPs.json\") as path:\n",
    "            with open(path, \"r\") as handle:\n",
    "                btagWPs = json.load(handle)\n",
    "        self._btagwp = btagWPs[self._tagger][self._year][self._wp]\n",
    "        \n",
    "        self.make_output = lambda: hist.Hist(\n",
    "            hist.axis.StrCategory([], growth=True, name=\"dataset\"),\n",
    "            hist.axis.Regular(20, 20, 500, name=\"pt\"),\n",
    "            hist.axis.Regular(4, 0, 2.5, name=\"abseta\"),\n",
    "            hist.axis.IntCategory([0, 4, 5], name=\"flavor\"),\n",
    "            hist.axis.Regular(2, 0, 2, name=\"passWP\"),\n",
    "        )\n",
    "        \n",
    "    @property\n",
    "    def accumulator(self):\n",
    "        return self._accumulator\n",
    "\n",
    "    def process(self, events):\n",
    "        dataset = events.metadata[\"dataset\"]\n",
    "        phasespace_cuts = (\n",
    "            (abs(events.Jet.eta) < 2.5)\n",
    "            & (events.Jet.pt > 20.)\n",
    "        )\n",
    "        jets = events.Jet[phasespace_cuts]\n",
    "        passbtag = jets.btagDeepFlavB > self._btagwp\n",
    "        \n",
    "        out = self.make_output()\n",
    "        out.fill(\n",
    "            dataset=dataset,\n",
    "            pt=ak.flatten(jets.pt),\n",
    "            abseta=ak.flatten(abs(jets.eta)),\n",
    "            flavor=ak.flatten(jets.hadronFlavour),\n",
    "            passWP=ak.flatten(passbtag),\n",
    "        )\n",
    "        return out\n",
    "\n",
    "    def postprocess(self, accumulator):\n",
    "        return accumulator"
   ]
  },
  {
   "cell_type": "markdown",
   "id": "cc0632fb-1661-41f6-b05e-3c384cbc981c",
   "metadata": {},
   "source": [
    "After running the processor using all MC samples, the following is obtained:"
   ]
  },
  {
   "cell_type": "code",
   "execution_count": 6,
   "id": "0165bf80-78a8-4eb2-8b27-0959e5d13c76",
   "metadata": {
    "tags": []
   },
   "outputs": [
    {
     "data": {
      "text/plain": [
       "('dataset', 'pt', 'abseta', 'flavor', 'passWP')"
      ]
     },
     "execution_count": 6,
     "metadata": {},
     "output_type": "execute_result"
    }
   ],
   "source": [
    "eff_hist.axes.name"
   ]
  },
  {
   "cell_type": "code",
   "execution_count": 7,
   "id": "6e7c2e3f-386d-4870-9cdc-1f51c35cbb61",
   "metadata": {
    "tags": []
   },
   "outputs": [
    {
     "data": {
      "text/plain": [
       "Hist(\n",
       "  StrCategory(['DYJetsToLL_M-50_HT-100to200', 'TTTo2L2Nu', 'ST_t-channel_top_5f_InclusiveDecays', 'ST_tW_top_5f_inclusiveDecays', 'ST_tW_antitop_5f_inclusiveDecays', 'ST_t-channel_top_4f_InclusiveDecays', 'ST_t-channel_antitop_5f_InclusiveDecays', 'ST_t-channel_antitop_4f_InclusiveDecays', 'DYJetsToLL_M-50_HT-400to600', 'ST_s-channel_4f_leptonDecays', 'DYJetsToLL_M-50_HT-800to1200', 'DYJetsToLL_M-50_HT-600to800', 'DYJetsToLL_M-50_HT-2500toInf', 'DYJetsToLL_M-50_HT-200to400', 'DYJetsToLL_M-50_HT-1200to2500', 'WJetsToLNu_HT-400To600', 'WJetsToLNu_HT-600To800', 'ZZ', 'WZ', 'WW', 'WJetsToLNu_HT-800To1200', 'WJetsToLNu_HT-200To400', 'WJetsToLNu_HT-2500ToInf', 'WJetsToLNu_HT-100To200', 'WJetsToLNu_HT-1200To2500', 'TTToSemiLeptonic', 'TTToHadronic'], growth=True, name='dataset'),\n",
       "  Regular(20, 20, 500, name='pt'),\n",
       "  Regular(4, 0, 2.5, name='abseta'),\n",
       "  IntCategory([0, 4, 5], name='flavor'),\n",
       "  Regular(2, 0, 2, name='passWP'),\n",
       "  storage=Double()) # Sum: 5568759449.0 (5597749609.0 with flow)"
      ]
     },
     "execution_count": 7,
     "metadata": {},
     "output_type": "execute_result"
    }
   ],
   "source": [
    "eff_hist"
   ]
  },
  {
   "cell_type": "markdown",
   "id": "558fc8d5-ea88-46b2-b650-f92e4d48ec62",
   "metadata": {},
   "source": [
    "Next, we use the `coffea.lookup_tools.dense_lookup` class to construct a efficiency function lookup from this histogram:"
   ]
  },
  {
   "cell_type": "code",
   "execution_count": 11,
   "id": "de8c7d6b-4e6d-4794-95d6-43b41551bd4d",
   "metadata": {
    "tags": []
   },
   "outputs": [
    {
     "data": {
      "text/plain": [
       "3 dimensional histogram with axes:\n",
       "\t1: [ 20.  44.  68.  92. 116. 140. 164. 188. 212. 236. 260. 284. 308. 332.\n",
       " 356. 380. 404. 428. 452. 476. 500.]\n",
       "\t2: [0.    0.625 1.25  1.875 2.5  ]\n",
       "\t3: [0. 1. 2. 3.]"
      ]
     },
     "execution_count": 11,
     "metadata": {},
     "output_type": "execute_result"
    }
   ],
   "source": [
    "# accumulate histograms by dataset\n",
    "acc_hist = eff_hist[{\"dataset\": sum}]\n",
    "\n",
    "# get efficiency function lookup\n",
    "eff = acc_hist[{\"passWP\": True}] / acc_hist[{\"passWP\": sum}]\n",
    "efflookup = dense_lookup(eff.values(), [ax.edges for ax in eff.axes])\n",
    "efflookup"
   ]
  },
  {
   "cell_type": "markdown",
   "id": "3fbe6e73-6465-4da1-a8b9-2b3336d830e7",
   "metadata": {},
   "source": [
    "We notice that the 'flavor' axis has been changed to 0. 1. 2. 3. We will modify this to have the correct flavor values (5=b, 4=c, 0=udsg)"
   ]
  },
  {
   "cell_type": "code",
   "execution_count": 14,
   "id": "b1489529-428d-445d-8e54-9e788472e2d6",
   "metadata": {
    "tags": []
   },
   "outputs": [
    {
     "data": {
      "text/plain": [
       "3 dimensional histogram with axes:\n",
       "\t1: [ 20.  44.  68.  92. 116. 140. 164. 188. 212. 236. 260. 284. 308. 332.\n",
       " 356. 380. 404. 428. 452. 476. 500.]\n",
       "\t2: [0.    0.625 1.25  1.875 2.5  ]\n",
       "\t3: [0. 4. 5. 6.]"
      ]
     },
     "execution_count": 14,
     "metadata": {},
     "output_type": "execute_result"
    }
   ],
   "source": [
    "efflookup._axes[-1] = np.array([0., 4., 5., 6.]) \n",
    "efflookup"
   ]
  },
  {
   "cell_type": "code",
   "execution_count": 30,
   "id": "f269b9d1-8567-4d14-8bc4-b97a0418b48d",
   "metadata": {
    "tags": []
   },
   "outputs": [
    {
     "data": {
      "text/plain": [
       "array([0.02550582, 0.19399992, 0.78824355])"
      ]
     },
     "execution_count": 30,
     "metadata": {},
     "output_type": "execute_result"
    }
   ],
   "source": [
    "# efficiency at 42 GeV, |eta|=0.2, for light, c, and b quark respectively\n",
    "efflookup(42, 0.2, np.array([0, 4, 5]))"
   ]
  },
  {
   "cell_type": "markdown",
   "id": "08f505ef-baa4-4f63-8ec1-7f14e9ff5205",
   "metadata": {},
   "source": [
    "Let's plot these efficiencies"
   ]
  },
  {
   "cell_type": "code",
   "execution_count": 29,
   "id": "c6b08b5a-4c3d-44c1-b114-fbf593a4edef",
   "metadata": {
    "tags": []
   },
   "outputs": [
    {
     "data": {
      "image/png": "[encoded data removed]",
      "text/plain": [
       "<Figure size 2000x500 with 6 Axes>"
      ]
     },
     "metadata": {},
     "output_type": "display_data"
    }
   ],
   "source": [
    "flavor_tags = {0: \"LightJets\", 4: \"c-Jets\", 5: \"b-Jets\"}\n",
    "\n",
    "pts = np.linspace(20, 500)\n",
    "etas = np.linspace(0, 2.5)\n",
    "pt, eta = np.meshgrid(pts, etas)\n",
    "\n",
    "fig, ax = plt.subplots(1, 3, figsize=(20, 5))\n",
    "\n",
    "for i, flavor in enumerate([0, 4, 5]):\n",
    "    heatmap = ax[i].pcolormesh(pt, eta, efflookup(pt, eta, flavor), cmap='viridis', vmin=0, vmax=1)\n",
    "    cbar = fig.colorbar(heatmap)\n",
    "    cbar.set_label(f'{flavor_tags[flavor]} b-tagging Efficiency')\n",
    "    ax[i].set_xlabel('$p_T$ [GeV]')\n",
    "    ax[i].set_ylabel('$|\\eta|$')"
   ]
  },
  {
   "cell_type": "markdown",
   "id": "21647215-b106-472b-882a-861a0cbb9b80",
   "metadata": {},
   "source": [
    "Now, we proceed to save this function"
   ]
  },
  {
   "cell_type": "code",
   "execution_count": 16,
   "id": "8fb1b4b7-929c-4ed1-b202-9d363c6b4dc3",
   "metadata": {
    "tags": []
   },
   "outputs": [],
   "source": [
    "util.save(efflookup, \"btag_eff_deepJet_M_2017.coffea\")"
   ]
  },
  {
   "cell_type": "markdown",
   "id": "427825d1-3f45-4b10-b5f8-2046837dbaec",
   "metadata": {},
   "source": [
    "### Event weight"
   ]
  },
  {
   "cell_type": "markdown",
   "id": "a30dcbdb-93c3-4724-86fc-9f2dad5b53c7",
   "metadata": {},
   "source": [
    "With the efficiency at hand, we still need to obtain the Scale Factor (SF) factors in order to compute the weights. \n",
    "\n",
    "We start by defining a function `get_pog_json` that provides us with the location of the corrections given the name of the correction and the year."
   ]
  },
  {
   "cell_type": "code",
   "execution_count": 17,
   "id": "f0eb52e3-cd5c-4222-a43e-d461ec760f98",
   "metadata": {
    "tags": []
   },
   "outputs": [],
   "source": [
    "# CorrectionLib files are available from\n",
    "POG_CORRECTION_PATH = \"/cvmfs/cms.cern.ch/rsync/cms-nanoAOD/jsonpog-integration\"\n",
    "\n",
    "# summary of pog scale factors: https://cms-nanoaod-integration.web.cern.ch/commonJSONSFs/\n",
    "POG_JSONS = {\n",
    "    \"muon\": [\"MUO\", \"muon_Z.json.gz\"],\n",
    "    \"electron\": [\"EGM\", \"electron.json.gz\"],\n",
    "    \"pileup\": [\"LUM\", \"puWeights.json.gz\"],\n",
    "    \"btag\": [\"BTV\", \"btagging.json.gz\"],\n",
    "    \"met\": [\"JME\", \"met.json.gz\"],\n",
    "}\n",
    "\n",
    "POG_YEARS = {\n",
    "    \"2016\": \"2016postVFP_UL\",\n",
    "    \"2016APV\": \"2016preVFP_UL\",\n",
    "    \"2017\": \"2017_UL\",\n",
    "    \"2018\": \"2018_UL\",\n",
    "}\n",
    "\n",
    "def get_pog_json(json_name: str, year: str) -> str:\n",
    "    \"\"\"\n",
    "    returns the path to the pog json file\n",
    "\n",
    "    Parameters:\n",
    "    -----------\n",
    "        json_name:\n",
    "            json name {'muon', 'electron', 'pileup', 'btag'}\n",
    "        year:\n",
    "            dataset year {'2016', '2017', '2018'}\n",
    "    \"\"\"\n",
    "    if json_name in POG_JSONS:\n",
    "        pog_json = POG_JSONS[json_name]\n",
    "    else:\n",
    "        print(f\"No json for {json_name}\")\n",
    "    return f\"{POG_CORRECTION_PATH}/POG/{pog_json[0]}/{POG_YEARS[year]}/{pog_json[1]}\""
   ]
  },
  {
   "cell_type": "markdown",
   "id": "bbd3a590-80ff-40fd-a69b-c42a367c8c2a",
   "metadata": {},
   "source": [
    "Now, we define the `BtagCorrector` class to compute the event weights. The event weights computation (1) is implemented in the `get_btag_weight` method"
   ]
  },
  {
   "cell_type": "code",
   "execution_count": 19,
   "id": "e1191a52-c2f7-458f-8c2f-80b675a37d9f",
   "metadata": {
    "tags": []
   },
   "outputs": [],
   "source": [
    "class BTagCorrector:\n",
    "    def __init__(\n",
    "        self,\n",
    "        sf: str = \"comb\",\n",
    "        wp: str = \"M\",\n",
    "        tagger: str = \"deepJet\",\n",
    "        year: str = \"2017\",\n",
    "        mod: str = \"\",\n",
    "    ):\n",
    "        \"\"\"\n",
    "        BTag corrector object\n",
    "\n",
    "        Parameters:\n",
    "        -----------\n",
    "            sf:\n",
    "                scale factors to use (mujets or comb)\n",
    "            wp:\n",
    "                worging point {'L', 'M', 'T'}\n",
    "            tagger:\n",
    "                tagger {'deepJet', 'deepCSV'}\n",
    "            year:\n",
    "                dataset year {'2016', '2017', '2018'}\n",
    "            mod:\n",
    "                year modifier {\"\", \"APV\"}\n",
    "        \"\"\"\n",
    "        self._sf = sf\n",
    "        self._year = year + mod\n",
    "        self._tagger = tagger\n",
    "        self._wp = wp\n",
    "        self._branch = TAGGER_BRANCH[tagger]\n",
    "\n",
    "        # btag working points (only for deepJet)\n",
    "        # https://twiki.cern.ch/twiki/bin/viewauth/CMS/BtagRecommendation\n",
    "        with importlib.resources.path(\"wprime_plus_b.data\", \"btagWPs.json\") as path:\n",
    "            with open(path, \"r\") as handle:\n",
    "                btagWPs = json.load(handle)\n",
    "        self._btagwp = btagWPs[tagger][year + mod][wp]\n",
    "\n",
    "        # correction set\n",
    "        self._cset = correctionlib.CorrectionSet.from_file(\n",
    "            get_pog_json(json_name=\"btag\", year=year + mod)\n",
    "        )\n",
    "\n",
    "        # load efficiency \n",
    "        # efflookup(pt, |eta|, flavor)\n",
    "        with importlib.resources.path(\n",
    "            \"wprime_plus_b.data\", f\"btag_eff_{tagger}_{wp}_{year}.coffea\"\n",
    "        ) as filename:\n",
    "            self.efflookup = util.load(str(filename))\n",
    "\n",
    "    def btag_sf(self, j, syst=\"central\"):\n",
    "        # syst: central, down, down_correlated, down_uncorrelated, up, up_correlated\n",
    "        j, nj = ak.flatten(j), ak.num(j)\n",
    "        sf = self._cset[f\"{self._tagger}_{self._sf}\"].evaluate(\n",
    "            syst,\n",
    "            self._wp,\n",
    "            np.array(j.hadronFlavour),\n",
    "            np.array(abs(j.eta)),\n",
    "            np.array(j.pt),\n",
    "        )\n",
    "        return ak.unflatten(sf, nj)\n",
    "\n",
    "    def light_tag_sf(self, j, syst=\"central\"):\n",
    "        # syst: central, down, down_correlated, down_uncorrelated, up, up_correlated\n",
    "        j, nj = ak.flatten(j), ak.num(j)\n",
    "        sf = self._cset[\"deepJet_incl\"].evaluate(\n",
    "            syst,\n",
    "            self._wp,\n",
    "            np.array(j.hadronFlavour),\n",
    "            np.array(abs(j.eta)),\n",
    "            np.array(j.pt),\n",
    "        )\n",
    "        return ak.unflatten(sf, nj)\n",
    "\n",
    "    # https://twiki.cern.ch/twiki/bin/viewauth/CMS/BTagSFMethods\n",
    "    @staticmethod\n",
    "    def get_btag_weight(eff, sf, passbtag):\n",
    "        # tagged SF = SF*eff / eff = SF\n",
    "        tagged_sf = ak.prod(sf[passbtag], axis=-1)\n",
    "        # untagged SF = (1 - SF*eff) / (1 - eff)\n",
    "        untagged_sf = ak.prod(((1 - sf * eff) / (1 - eff))[~passbtag], axis=-1)\n",
    "\n",
    "        return ak.fill_none(tagged_sf * untagged_sf, 1.0)\n",
    "\n",
    "    def add_btag_weight(self, events: ak.Array, weights: Type[Weights]):\n",
    "        \"\"\"\n",
    "        add b-tagging scale factor\n",
    "\n",
    "        Parameters:\n",
    "        -----------\n",
    "            events:\n",
    "                Events collection\n",
    "            weights:\n",
    "                Weights object from coffea.analysis_tools\n",
    "        \"\"\"\n",
    "        phasespace_cuts = (abs(events.Jet.eta) < 2.5) & (events.Jet.pt > 20.0)\n",
    "\n",
    "        # hadron flavor definition: 5=b, 4=c, 0=udsg\n",
    "        bc_jets = events.Jet[phasespace_cuts & (events.Jet.hadronFlavour > 0)]\n",
    "        light_jets = events.Jet[phasespace_cuts & (events.Jet.hadronFlavour == 0)]\n",
    "\n",
    "        # efficiencies\n",
    "        bc_eff = self.efflookup(bc_jets.pt, np.abs(bc_jets.eta), bc_jets.hadronFlavour)\n",
    "        light_eff = self.efflookup(\n",
    "            light_jets.pt, np.abs(light_jets.eta), light_jets.hadronFlavour\n",
    "        )\n",
    "\n",
    "        # scale factors\n",
    "        bc_jets_sf = self.btag_sf(bc_jets)\n",
    "        light_jets_sf = self.light_tag_sf(light_jets)\n",
    "\n",
    "        # pass btag wp\n",
    "        bc_pass = bc_jets[self._branch] > self._btagwp\n",
    "        light_pass = light_jets[self._branch] > self._btagwp\n",
    "\n",
    "        # get nominal weights\n",
    "        bc_jets_weight = self.get_btag_weight(bc_eff, bc_jets_sf, bc_pass)\n",
    "        light_jets_weight = self.get_btag_weight(light_eff, light_jets_sf, light_pass)\n",
    "\n",
    "        # add nominal weight\n",
    "        weights.add(name=\"btag\", weight=bc_jets_weight * light_jets_weight)"
   ]
  },
  {
   "cell_type": "markdown",
   "id": "e817b056-5393-421e-8460-90982ed3aa04",
   "metadata": {},
   "source": [
    "Now, given some events, we can compute the btag event weights and add them to the `Weights` container using the `add_btag_weight` method:"
   ]
  },
  {
   "cell_type": "code",
   "execution_count": null,
   "id": "bbd7eba1-5d11-43b9-b096-adff7810ff5d",
   "metadata": {},
   "outputs": [],
   "source": [
    "weights = Weights(len(events), storeIndividual=True)\n",
    "\n",
    "if hasattr(events, \"genWeight\"):\n",
    "    btag_weight = BTagCorrector(wp=\"M\", tagger=\"deepJet\", year=\"2017\")\n",
    "    btag_weight.add_btag_weight(events=events, weights=weights)"
   ]
  }
 ],
 "metadata": {
  "kernelspec": {
   "display_name": "Python 3 (ipykernel)",
   "language": "python",
   "name": "python3"
  },
  "language_info": {
   "codemirror_mode": {
    "name": "ipython",
    "version": 3
   },
   "file_extension": ".py",
   "mimetype": "text/x-python",
   "name": "python",
   "nbconvert_exporter": "python",
   "pygments_lexer": "ipython3",
   "version": "3.8.16"
  }
 },
 "nbformat": 4,
 "nbformat_minor": 5
}
